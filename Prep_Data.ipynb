{
  "nbformat": 4,
  "nbformat_minor": 0,
  "metadata": {
    "colab": {
      "provenance": [],
      "machine_shape": "hm"
    },
    "kernelspec": {
      "name": "python3",
      "display_name": "Python 3"
    },
    "language_info": {
      "name": "python"
    }
  },
  "cells": [
    {
      "cell_type": "code",
      "execution_count": null,
      "metadata": {
        "id": "EHjQ0X_WtAbm"
      },
      "outputs": [],
      "source": [
        "%matplotlib inline\n",
        "\n",
        "import os\n",
        "import pdb\n",
        "import argparse\n",
        "import pickle as pkl\n",
        "from pathlib import Path\n",
        "\n",
        "from collections import defaultdict\n",
        "\n",
        "import numpy as np\n",
        "import matplotlib as mpl\n",
        "import matplotlib.pyplot as plt\n",
        "import matplotlib.ticker as ticker\n",
        "\n",
        "import torch\n",
        "import torch.nn as nn\n",
        "import torch.optim as optim\n",
        "import torch.nn.functional as F\n",
        "from torch.autograd import Variable\n",
        "\n",
        "from six.moves.urllib.request import urlretrieve\n",
        "import tarfile\n",
        "import pickle\n",
        "import sys\n",
        "\n",
        "import pandas as pd\n",
        "import seaborn as sns\n",
        "\n",
        "pd.set_option('display.max_columns', None)\n",
        "pd.set_option('display.max_rows', 100)\n",
        "\n"
      ]
    },
    {
      "cell_type": "code",
      "source": [
        "######################################################################\n",
        "# Set path to the folder where your data is stored\n",
        "######################################################################\n",
        "from google.colab import drive\n",
        "drive.mount('/content/drive')\n",
        "os.chdir('/content/drive/MyDrive/Neural Nets Spring 2025 Project')\n",
        "os.getcwd()\n",
        "os.listdir()"
      ],
      "metadata": {
        "id": "9zB_oYL7pX-o"
      },
      "execution_count": null,
      "outputs": []
    },
    {
      "cell_type": "markdown",
      "source": [
        "# Bring in Raw Player Data and Clean and Preprocess"
      ],
      "metadata": {
        "id": "KIo-z_TSt8_6"
      }
    },
    {
      "cell_type": "code",
      "source": [
        "####Bring in Player Game data\n",
        "rawdata = pd.read_csv('player_games.txt', header = 0 )\n",
        "rawdata.head()\n",
        "\n",
        "###Glossary\n",
        "# Rk -- Rank\n",
        "# PTS -- Points\n",
        "# Age -- As of the date of the game listed. Age is Years-Days.\n",
        "# GS -- Games Started\n",
        "# POS -- position\n",
        "# MP -- Minutes Played\n",
        "# FG -- Field Goals\n",
        "# FGA -- Field Goal Attempts\n",
        "# FG% -- Field Goal Percentage\n",
        "# 2P -- 2-Point Field Goals\n",
        "# 2PA -- 2-Point Field Goal Attempts\n",
        "# 2P% -- 2-Point Field Goal Percentage\n",
        "# 3P -- 3-Point Field Goals\n",
        "# 3PA -- 3-Point Field Goal Attempts\n",
        "# 3P% -- 3-Point Field Goal Percentage\n",
        "# FT -- Free Throws\n",
        "# FTA -- Free Throw Attempts\n",
        "# FT% -- Free Throw Percentage\n",
        "# ORB -- Offensive Rebounds\n",
        "# DRB -- Defensive Rebounds\n",
        "# TRB -- Total Rebounds\n",
        "# AST -- Assists\n",
        "# STL -- Steals\n",
        "# BLK -- Blocks\n",
        "# TOV -- Turnovers\n",
        "# PF -- Personal Fouls\n",
        "# PTS -- Points\n",
        "# GmSc -- Game Score\n",
        "# BPM -- Box Plus/Minus\n",
        "# A box score estimate of the points per 100 possessions a player contributed above a league-average player, translated to an average team."
      ],
      "metadata": {
        "id": "sn7iOym9rckD"
      },
      "execution_count": null,
      "outputs": []
    },
    {
      "cell_type": "code",
      "source": [
        "#Choose start and end dates of data\n",
        "start_date = '1991-11-01'\n",
        "end_date = '2020-07-01'"
      ],
      "metadata": {
        "id": "VuMbInkyAD7K"
      },
      "execution_count": null,
      "outputs": []
    },
    {
      "cell_type": "code",
      "source": [
        "#Remove Rank column which is not needed\n",
        "cleandata = rawdata.drop(columns = 'Rk')\n",
        "\n",
        "#Remove duplicated rows\n",
        "cleandata = cleandata.drop_duplicates(subset = ['Date', 'Player'])\n",
        "\n",
        "#Change date to date format\n",
        "cleandata['Date'] = pd.to_datetime(cleandata['Date'])\n",
        "# cleandata = cleandata[(cleandata['Date'] >= start_date) & (cleandata['Date'] <= end_date)]\n",
        "\n",
        "##explore categorical variables\n",
        "display(cleandata.Player.unique())\n",
        "display(cleandata.Pos.unique())\n",
        "display(cleandata.Playerteam.unique())\n",
        "display(cleandata.Oppteam.unique())\n",
        "display(cleandata.GameOutcome.unique())\n",
        "display(cleandata.Age.unique())\n",
        "display(cleandata.Date.unique())\n",
        "display(cleandata.At.unique())\n",
        "\n",
        "#Convert Age to numeric\n",
        "cleandata['AgeYr'] = cleandata['Age'].str.split('-').str[0].astype(int)\n",
        "cleandata['AgeDays'] = cleandata['Age'].str.split('-').str[1].astype(int)\n",
        "cleandata['AgeDays'] = cleandata['AgeYr'] * 365 + cleandata['AgeDays']\n",
        "cleandata.drop(columns = ['Age', 'AgeYr'], inplace = True)\n",
        "\n",
        "#Compute Ending Year of Season\n",
        "cleandata['Season'] = cleandata['Date'].dt.year\n",
        "cleandata.loc[cleandata['Date'].dt.month > 8, 'Season'] = cleandata['Season'] + 1\n",
        "\n",
        "display(cleandata[['Season', 'Date']].drop_duplicates())\n",
        "\n",
        "#Get Player Id\n",
        "cleandata['PlayerId'] = cleandata['Player'].str.split('\\\\').str[1]\n",
        "cleandata.drop(columns = ['Player'], inplace = True)\n",
        "\n",
        "#Convert At to home/away\n",
        "cleandata['HomeGame'] = True\n",
        "cleandata.loc[cleandata['At'] == '@', 'HomeGame'] = False\n",
        "cleandata.drop(columns = 'At', inplace = True)\n",
        "display(cleandata.HomeGame.unique())\n",
        "\n",
        "#Drop Player Games with less than 2 minutes played\n",
        "cleandata = cleandata[cleandata['MP'] >= 2]\n",
        "\n",
        "###Construct Fantasy Points\n",
        "cleandata['FTSYPTS'] = cleandata['PTS'] + cleandata['TRB'] * 1.2 + cleandata['AST'] * 1.5 + cleandata['STL'] * 3 + cleandata['BLK'] * 3 - cleandata['TOV'] * 1\n",
        "\n",
        "##Explore Player Game data\n",
        "display(cleandata.head())\n",
        "\n",
        "display(cleandata.describe())\n"
      ],
      "metadata": {
        "id": "36wkrlhfs7BC"
      },
      "execution_count": null,
      "outputs": []
    },
    {
      "cell_type": "code",
      "source": [
        "#Cache Cleaned Player data\n",
        "cleandata.reset_index(drop = True).to_feather('Data/cleandata.feather')"
      ],
      "metadata": {
        "id": "S9Pe9BmDRpgW"
      },
      "execution_count": null,
      "outputs": []
    },
    {
      "cell_type": "markdown",
      "source": [
        "\n",
        "# Compute Historical Average by Game Features"
      ],
      "metadata": {
        "id": "eR_zBLrguHp9"
      }
    },
    {
      "cell_type": "code",
      "source": [
        "### Numerical stats list\n",
        "print(cleandata.columns)\n",
        "num_stats_list = ['MP', '2P', '2PA', '3P', '3PA', 'FT',\n",
        "       'FT%', 'ORB', 'DRB', 'AST', 'STL', 'BLK', 'TOV', 'PF', 'PTS','GmSc', 'BPM']"
      ],
      "metadata": {
        "id": "dEL7qcwK_euP"
      },
      "execution_count": null,
      "outputs": []
    },
    {
      "cell_type": "code",
      "source": [
        "### Build Historical Average Set of Features\n",
        "#idcol can be PlayerId or Team\n",
        "def hist_avg_features(data, idcol = 'PlayerId', type = 'lookback', gameslkback = 3, columns = ['PTS']):\n",
        "  data = data[['Date', idcol, 'Season'] + columns]\n",
        "\n",
        "  #convert to long format\n",
        "  data = data.melt(id_vars = ['Date', idcol, 'Season'], value_name = 'Data', var_name = 'Stat')\n",
        "\n",
        "  data = data.sort_values('Date')\n",
        "\n",
        "  #Compute rolling average over number of game lookbacks or expanding window over a season or player's career\n",
        "  if type == 'lookback':\n",
        "\n",
        "    data['AvgData'] = data.groupby([idcol, 'Stat'], group_keys = False).apply(lambda g: g['Data'].rolling(window = gameslkback, min_periods = 1).mean())\n",
        "    data['StatName'] = data['Stat'] + 'Avg' + str(gameslkback)\n",
        "\n",
        "  if type == 'career':\n",
        "    data['AvgData'] = data.groupby([idcol, 'Stat'], group_keys = False).apply(lambda g: g['Data'].expanding().mean())\n",
        "    data['StatName'] = data['Stat'] + 'CareerAvg'\n",
        "\n",
        "  if type == 'season':\n",
        "    data['AvgData'] = data.groupby([idcol, 'Stat', 'Season'], group_keys = False).apply(lambda g: g['Data'].expanding().mean())\n",
        "    data['StatName'] = data['Stat'] + 'SeasonAvg'\n",
        "\n",
        "  #Shfit data back one game to ensure no look ahead bias\n",
        "  data['AvgData'] = data.groupby([idcol, 'Stat']).AvgData.shift(1)\n",
        "  data.drop(columns = ['Data', 'Stat'], inplace = True)\n",
        "  data.rename(columns = {'AvgData' : 'Data'}, inplace = True)\n",
        "\n",
        "  return(data)\n",
        "\n",
        "hist_avg_features(data = cleandata, type = 'season')\n"
      ],
      "metadata": {
        "id": "UR01ehrtaoPx"
      },
      "execution_count": null,
      "outputs": []
    },
    {
      "cell_type": "code",
      "source": [
        "#Generate average stats over past # of games\n",
        "gameavgstats = []\n",
        "for i in [2,5,15]:\n",
        "  tmp = hist_avg_features(data = cleandata, type = 'lookback', gameslkback = i, columns = num_stats_list)\n",
        "  display(tmp)\n",
        "  gameavgstats.append(tmp)\n",
        "\n",
        "gameavgstats = pd.concat(gameavgstats)\n"
      ],
      "metadata": {
        "id": "n6EkYLYuoMcm"
      },
      "execution_count": null,
      "outputs": []
    },
    {
      "cell_type": "code",
      "source": [
        "#Get Career and Season Average Stats\n",
        "careeravg = hist_avg_features(data = cleandata, type = 'career', columns = num_stats_list)\n",
        "seasonavg = hist_avg_features(data = cleandata, type = 'season', columns = num_stats_list)\n"
      ],
      "metadata": {
        "id": "Vq5Twse8kw8r"
      },
      "execution_count": null,
      "outputs": []
    },
    {
      "cell_type": "code",
      "source": [
        "gameavgstats = pd.concat([gameavgstats, careeravg, seasonavg])"
      ],
      "metadata": {
        "id": "f2xSqgOcr4W6"
      },
      "execution_count": null,
      "outputs": []
    },
    {
      "cell_type": "code",
      "source": [
        "#### Bring in average stats from cache\n",
        "# gameavgstats = pd.read_feather('Data/gameavgstats.feather')\n",
        "\n",
        "# Cache avg stats\n",
        "gameavgstats.reset_index(drop = True).to_feather('Data/gameavgstats.feather')"
      ],
      "metadata": {
        "id": "muNHOwFboouf"
      },
      "execution_count": null,
      "outputs": []
    },
    {
      "cell_type": "markdown",
      "source": [
        "# Compute Historical Sums over Dates"
      ],
      "metadata": {
        "id": "RLnZmwR3eB3x"
      }
    },
    {
      "cell_type": "code",
      "source": [
        "###Function for computing total sum of metrics over a certain lookback number of days\n",
        "def hist_sum_features(data, idcol = 'PlayerId', type = 'lookback', dayslookback = 1, columns = ['MP']):\n",
        "\n",
        "  data = data[['Date', 'Season', idcol] + columns]\n",
        "\n",
        "  data['Date'] = pd.to_datetime(data['Date'])\n",
        "\n",
        "  #convert to long format\n",
        "  data = data.melt(id_vars = ['Date', 'Season', idcol], value_name = 'Data', var_name = 'Stat')\n",
        "\n",
        "  # data.set_index('Date', inplace = True)\n",
        "  data = data.sort_values([idcol, 'Stat' , 'Date'])\n",
        "\n",
        "  #days to lookback\n",
        "  roll_lookback = str(dayslookback + 1) + 'D'\n",
        "\n",
        "  if type == 'lookback':\n",
        "\n",
        "    #compute rolling sum based on the date\n",
        "    avgdata = data.groupby([idcol, 'Stat']).apply(lambda g: g.set_index('Date')['Data'].rolling(window = roll_lookback).sum()).reset_index()\n",
        "    avgdata.rename(columns = {'Data': 'SumData'}, inplace = True)\n",
        "\n",
        "    #remove current game from sum\n",
        "    avgdata = avgdata.merge(data, on = ['Date', idcol, 'Stat'], how = 'left')\n",
        "    avgdata['SumData'] = avgdata['SumData'] - avgdata['Data']\n",
        "\n",
        "    avgdata['StatName'] = avgdata['Stat'] + 'Sum' + str(dayslookback) + 'D'\n",
        "\n",
        "  avgdata.drop(columns = ['Data', 'Stat'], inplace = True)\n",
        "  avgdata.rename(columns = {'SumData': 'Data'}, inplace = True)\n",
        "\n",
        "  return(avgdata)\n",
        "\n",
        "tmp = hist_sum_features(data = cleandata, type = 'lookback', dayslookback = 10, columns = ['MP', 'PTS'])\n",
        "tmp"
      ],
      "metadata": {
        "id": "YW7DtUgUt00x"
      },
      "execution_count": null,
      "outputs": []
    },
    {
      "cell_type": "code",
      "source": [
        "###Create summed features\n",
        "summingdf = cleandata[['PlayerId', 'Date','Season', 'MP', 'GameOutcome', 'GS', 'HomeGame']]\n",
        "summingdf['GP'] = 1\n",
        "summingdf['Win'] = 0\n",
        "summingdf.loc[summingdf['GameOutcome'] == 'W', 'Win'] = 1\n",
        "summingdf['Loss'] = 0\n",
        "summingdf.loc[summingdf['GameOutcome'] == 'L', 'Loss'] = 1\n",
        "summingdf['Home'] = 0\n",
        "summingdf.loc[summingdf['HomeGame'] == True, 'Home'] = 1\n",
        "summingdf['Away'] = 0\n",
        "summingdf.loc[summingdf['HomeGame'] == False, 'Away'] = 1\n",
        "\n",
        "\n",
        "sumstats = []\n",
        "for i in [2,7,14]:\n",
        "  tmp = hist_sum_features(data = summingdf, dayslookback = i, columns = ['MP', 'Win', 'Loss', 'Home', 'Away'])\n",
        "  display(tmp)\n",
        "  sumstats.append(tmp)\n",
        "\n",
        "sumstats = pd.concat(sumstats)\n",
        "\n",
        "del summingdf"
      ],
      "metadata": {
        "id": "h2TJWIrrwaI3"
      },
      "execution_count": null,
      "outputs": []
    },
    {
      "cell_type": "code",
      "source": [
        "#Cache summed stats\n",
        "# sumstats.reset_index(drop = True).to_feather('Data/sumstats.feather')\n",
        "sumstats.reset_index(drop = True).to_feather('sumstats.feather')"
      ],
      "metadata": {
        "id": "DBnqUdPm6YJX"
      },
      "execution_count": null,
      "outputs": []
    },
    {
      "cell_type": "markdown",
      "source": [
        "# Bring in Team Level Data"
      ],
      "metadata": {
        "id": "kOGk92N56k8X"
      }
    },
    {
      "cell_type": "code",
      "source": [
        "tmdata = pd.read_csv('Data/team_games.txt')\n",
        "\n",
        "#Remove Rank column which is not needed\n",
        "cleantmdata = tmdata.drop(columns = 'Rk')\n",
        "\n",
        "# display(cleantmdata[cleantmdata.duplicated(subset = ['Date', 'Tm', 'Opp'], keep = False)].sort_values(['Date', 'Tm', 'Opp']))\n",
        "\n",
        "#Remove duplicated rows\n",
        "cleantmdata = cleantmdata.drop_duplicates(subset = ['Date', 'Tm', 'Opp'])\n",
        "\n",
        "# #Change date to date format\n",
        "cleantmdata['Date'] = pd.to_datetime(cleantmdata['Date'])\n",
        "cleantmdata = cleantmdata[(cleantmdata['Date'] >= start_date) & (cleantmdata['Date'] <= end_date)]\n",
        "\n",
        "# ##explore categorical variables\n",
        "display(cleantmdata.Tm.unique())\n",
        "display(cleantmdata.At.unique())\n",
        "display(cleantmdata.Opp.unique())\n",
        "display(cleantmdata.MP.unique())\n",
        "\n",
        "#Compute Ending Year of Season\n",
        "cleantmdata['Season'] = cleantmdata['Date'].dt.year\n",
        "cleantmdata.loc[cleantmdata['Date'].dt.month >= 8, 'Season'] = cleantmdata['Season'] + 1\n",
        "\n",
        "display(cleantmdata[['Season', 'Date']].drop_duplicates())\n",
        "\n",
        "cleantmdata.sort_values(['Date', 'Tm', 'Opp'])\n",
        "cleantmdata[(cleantmdata.Date == '2020-08-14')]\n",
        "\n",
        "# #Convert At to home/away\n",
        "cleantmdata['HomeGame'] = True\n",
        "cleantmdata.loc[cleantmdata['At'] == '@', 'HomeGame'] = False\n",
        "cleantmdata.drop(columns = 'At', inplace = True)\n",
        "\n",
        "\n",
        "##Explore Player Game data\n",
        "display(cleantmdata.head())\n",
        "\n",
        "display(cleantmdata.describe())\n"
      ],
      "metadata": {
        "collapsed": true,
        "id": "6qMQPWNb6uts"
      },
      "execution_count": null,
      "outputs": []
    },
    {
      "cell_type": "code",
      "source": [
        "###Compute Other Total Counting Stats\n",
        "othertmdata = cleandata.groupby(['Date', 'Playerteam'])[['TRB', 'AST', 'STL', 'BLK', 'TOV', 'PF']].sum().reset_index()\n",
        "othertmdata.rename(columns = {'Playerteam': 'Tm'}, inplace = True)\n",
        "cleantmdata = cleantmdata.merge(othertmdata, on = ['Date', 'Tm'], how = 'left')\n",
        "\n",
        "#Opponent other total counting stats\n",
        "othertmdata.rename(columns = {'Tm' : 'Opp', 'TRB': 'OppTRB', 'AST': 'OppAST', 'STL': 'OppSTL', 'BLK': 'OppBLK', 'TOV': 'OppTOV', 'PF': 'OppPF'}, inplace = True)\n",
        "cleantmdata = cleantmdata.merge(othertmdata, on = ['Date', 'Opp'], how = 'left')\n",
        "\n",
        "cleantmdata\n",
        "\n",
        "del othertmdata"
      ],
      "metadata": {
        "id": "iFEVJIFv9-AP"
      },
      "execution_count": null,
      "outputs": []
    },
    {
      "cell_type": "markdown",
      "source": [
        "# Construct Team Level Features"
      ],
      "metadata": {
        "id": "hNFnLB3B7QLm"
      }
    },
    {
      "cell_type": "code",
      "source": [
        "###Build Each Team's Historical Average Features\n",
        "\n",
        "teamavgstats = []\n",
        "for i in [5,20]:\n",
        "  tmp = hist_avg_features(data = cleantmdata, idcol = 'Tm', type = 'lookback',\n",
        "                          gameslkback = i, columns = ['PTS', 'FG%', 'TRB', 'AST', 'STL', 'BLK', 'TOV', 'PF',\n",
        "                                                    'OppPTS', 'OppFG%', 'OppTRB', 'OppAST', 'OppSTL', 'OppBLK', 'OppTOV', 'OppPF'])\n",
        "  teamavgstats.append(tmp)\n",
        "\n",
        "teamseasonavg = hist_avg_features(data = cleantmdata, idcol = 'Tm', type = 'season', columns = ['PTS', 'FG%', 'TRB', 'AST', 'STL', 'BLK', 'TOV', 'PF',\n",
        "                                                    'OppPTS', 'OppFG%', 'OppTRB', 'OppAST', 'OppSTL', 'OppBLK', 'OppTOV', 'OppPF'])\n",
        "\n",
        "teamavgstats = pd.concat(teamavgstats)\n",
        "teamavgstats = pd.concat([teamavgstats, teamseasonavg])\n",
        "teamavgstats.rename(columns = {'AvgData': 'Data'}, inplace = True)\n",
        "\n",
        "display(teamavgstats)"
      ],
      "metadata": {
        "id": "f9w9d39V7cTp"
      },
      "execution_count": null,
      "outputs": []
    },
    {
      "cell_type": "code",
      "source": [
        "###Create team summed features\n",
        "summingdf = cleantmdata[['Tm', 'Date', 'Season', 'Result', 'HomeGame']]\n",
        "display(summingdf)\n",
        "summingdf['GP'] = 1\n",
        "summingdf['Win'] = 0\n",
        "summingdf.loc[summingdf['Result'].str[0] == 'W', 'Win'] = 1\n",
        "summingdf['Home'] = 0\n",
        "summingdf.loc[summingdf['HomeGame'] == True, 'Home'] = 1\n",
        "\n",
        "tmsumstats = []\n",
        "for i in [2,7,14]:\n",
        "  tmp = hist_sum_features(data = summingdf, idcol = 'Tm', dayslookback = i, columns = ['GP', 'Win', 'Home'])\n",
        "  display(tmp)\n",
        "  tmsumstats.append(tmp)\n",
        "\n",
        "tmsumstats = pd.concat(tmsumstats)\n",
        "\n",
        "tmsumstats"
      ],
      "metadata": {
        "id": "etZ_6m2NOZe1"
      },
      "execution_count": null,
      "outputs": []
    },
    {
      "cell_type": "code",
      "source": [
        "###Build Own Team's Stat Features\n",
        "ownteamstats = cleandata[['Date', 'PlayerId', 'Playerteam']]\n",
        "ownteamstats.rename(columns = {'Playerteam': 'Tm'}, inplace = True)\n",
        "ownteamstats = ownteamstats.merge(teamavgstats, on = ['Date', 'Tm'], how = 'left')\n",
        "ownteamstats = ownteamstats[~(ownteamstats['StatName'].str.contains('Opp', na = False))]\n",
        "ownteamstats['StatName'] = 'Tm' + ownteamstats['StatName']\n",
        "\n",
        "ownteamstats = ownteamstats[ownteamstats.StatName.notna()]\n",
        "display(ownteamstats)\n"
      ],
      "metadata": {
        "id": "NY0paYmzBcu8"
      },
      "execution_count": null,
      "outputs": []
    },
    {
      "cell_type": "code",
      "source": [
        "# Opponent Team's Past Stats and Opponent's Past Opponent's stats\n",
        "oppteamstats = cleandata[['Date', 'PlayerId', 'Oppteam']]\n",
        "oppteamstats.rename(columns = {'Oppteam': 'Tm'}, inplace = True)\n",
        "oppteamstats = oppteamstats.merge(teamavgstats, on = ['Date', 'Tm'], how = 'left')\n",
        "\n",
        "#Opponent Couning Stats\n",
        "oppcounts = cleandata[['Date', 'PlayerId', 'Oppteam']]\n",
        "oppcounts.rename(columns = {'Oppteam': 'Tm'}, inplace = True)\n",
        "oppcounts = oppcounts.merge(tmsumstats, on = ['Date', 'Tm'], how = 'left')\n",
        "oppcounts\n",
        "\n",
        "oppteamstats = pd.concat([oppteamstats, oppcounts])\n",
        "oppteamstats = oppteamstats[oppteamstats.StatName.notna()]\n",
        "\n",
        "oppteamstats['StatName'] = 'Opp' + oppteamstats['StatName']\n",
        "\n",
        "oppteamstats = oppteamstats[oppteamstats.StatName.notna()]\n",
        "\n",
        "display(oppteamstats)"
      ],
      "metadata": {
        "id": "7IM6509tYByi"
      },
      "execution_count": null,
      "outputs": []
    },
    {
      "cell_type": "code",
      "source": [
        "###Combine Team stats and cache\n",
        "teamstats = pd.concat([ownteamstats, oppteamstats])\n",
        "teamstats.drop(columns = 'Tm', inplace = True)\n",
        "display(teamstats)\n",
        "teamstats.reset_index(drop = True).to_feather('Data/teamstats.feather')"
      ],
      "metadata": {
        "id": "brI1IPbgeYwx"
      },
      "execution_count": null,
      "outputs": []
    },
    {
      "cell_type": "markdown",
      "source": [
        "# Construct Other Categorical Features"
      ],
      "metadata": {
        "id": "00RWFke-_klC"
      }
    },
    {
      "cell_type": "code",
      "source": [
        "otherstats = cleandata[['Date', 'PlayerId', 'Pos', 'HomeGame', 'AgeDays']]\n",
        "\n",
        "###One Hot Encode Position\n",
        "posohe = pd.get_dummies(otherstats['Pos'])\n",
        "otherstats = pd.concat([otherstats, posohe], axis = 1)\n",
        "otherstats.drop(columns = ['Pos'], inplace = True)\n",
        "\n",
        "###Get Month of Year\n",
        "otherstats['Month'] = otherstats['Date'].dt.month\n",
        "\n",
        "otherstats\n"
      ],
      "metadata": {
        "id": "HnvmiAOU0MWn"
      },
      "execution_count": null,
      "outputs": []
    },
    {
      "cell_type": "code",
      "source": [
        "#Cache Other Stats\n",
        "otherstats.reset_index(drop = True).to_feather('Data/otherstats.feather')"
      ],
      "metadata": {
        "id": "mxmpi0b7AXYB"
      },
      "execution_count": null,
      "outputs": []
    },
    {
      "cell_type": "code",
      "source": [
        "#Fantasy points target\n",
        "cleandata[['Date', 'PlayerId', 'FTSYPTS']].reset_index(drop=True).to_feather('Data/fantasy_points_target.feather')"
      ],
      "metadata": {
        "id": "HItdewUxX1NZ"
      },
      "execution_count": null,
      "outputs": []
    }
  ]
}